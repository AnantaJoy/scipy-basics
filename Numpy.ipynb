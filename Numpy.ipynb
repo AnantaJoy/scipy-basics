{
 "cells": [
  {
   "cell_type": "markdown",
   "metadata": {},
   "source": [
    "### The Basics of Numpy\n",
    "* Homogeneous multidimensional arrays\n",
    "* Dimensions are called axis\n",
    "* Python array.array is not same as numpy.array"
   ]
  },
  {
   "cell_type": "markdown",
   "metadata": {},
   "source": []
  },
  {
   "cell_type": "code",
   "execution_count": 2,
   "metadata": {},
   "outputs": [
    {
     "name": "stdout",
     "output_type": "stream",
     "text": [
      "Dimension of the array is  1\n",
      "Shape of the array is  (5,)\n",
      "Size of the array is  5\n",
      "Type of the array is  int64\n",
      "Item size of the array is  8\n"
     ]
    }
   ],
   "source": [
    "import numpy as np\n",
    "# create a 1D array of size 5\n",
    "arr = np.array([1,2,3,4,5])\n",
    "print(\"Dimension of the array is \", arr.ndim) \n",
    "# This is a tuple of integers indicating the size of the array in each dimension\n",
    "print(\"Shape of the array is \", arr.shape)\n",
    "print(\"Size of the array is \", arr.size)\n",
    "print(\"Type of the array is \", arr.dtype)\n",
    "print(\"Item size of the array is \", arr.itemsize)\n",
    "      "
   ]
  },
  {
   "cell_type": "code",
   "execution_count": 3,
   "metadata": {},
   "outputs": [
    {
     "name": "stdout",
     "output_type": "stream",
     "text": [
      "Dimension of the array is  2\n",
      "Shape of the array is  (4, 5)\n",
      "Size of the array is  20\n",
      "Type of the array is  int64\n",
      "Item size of the array is  8\n"
     ]
    }
   ],
   "source": [
    "# creating 2D array of size 4x5\n",
    "arr1 = np.arange(20).reshape(4,5)\n",
    "print(\"Dimension of the array is \", arr1.ndim)\n",
    "print(\"Shape of the array is \", arr1.shape)\n",
    "print(\"Size of the array is \", arr1.size)\n",
    "print(\"Type of the array is \", arr1.dtype)\n",
    "print(\"Item size of the array is \", arr1.itemsize)"
   ]
  },
  {
   "cell_type": "markdown",
   "metadata": {},
   "source": [
    "### Creation of array\n"
   ]
  },
  {
   "cell_type": "code",
   "execution_count": 4,
   "metadata": {},
   "outputs": [
    {
     "name": "stdout",
     "output_type": "stream",
     "text": [
      "list1 is a  <class 'list'>\n",
      "tuple1 is a  <class 'tuple'>\n",
      "list_to_array is a  <class 'numpy.ndarray'>\n",
      "tuple_to_array is a  <class 'numpy.ndarray'>\n",
      "[1 2 3 4 5]\n",
      "[1 2 3 4 5]\n"
     ]
    }
   ],
   "source": [
    "# creating an array from a list/tuple of values\n",
    "list1 = [1,2,3,4,5]\n",
    "tuple1 = (1,2,3,4,5)\n",
    "list_to_array = np.array(list1)\n",
    "tuple_to_array = np.array(tuple1)\n",
    "print(\"list1 is a \", type(list1))\n",
    "print(\"tuple1 is a \", type(tuple1))\n",
    "print(\"list_to_array is a \", type(list_to_array))\n",
    "print(\"tuple_to_array is a \", type(tuple_to_array))\n",
    "print(list_to_array)\n",
    "print(tuple_to_array)\n"
   ]
  },
  {
   "cell_type": "code",
   "execution_count": 5,
   "metadata": {},
   "outputs": [
    {
     "name": "stdout",
     "output_type": "stream",
     "text": [
      "[1 2 3 4 5]\n",
      "[[ 1  2  3  4  5]\n",
      " [ 6  7  8  9 10]]\n"
     ]
    }
   ],
   "source": [
    "# creating an array  of any dimension\n",
    "arr_1d = np.array([1,2,3,4,5])\n",
    "arr_2d = np.array([[1,2,3,4,5],[6,7,8,9,10]])\n",
    "print(arr_1d)\n",
    "print(arr_2d)"
   ]
  },
  {
   "cell_type": "code",
   "execution_count": 6,
   "metadata": {},
   "outputs": [
    {
     "name": "stdout",
     "output_type": "stream",
     "text": [
      "complex128\n"
     ]
    }
   ],
   "source": [
    "# creating an array with complex data types\n",
    "complex = np.array([1+1j,2+2j,3+3j,4+4j,5+5j])\n",
    "print(complex.dtype)\n",
    "# complex2 = np.array([[1,2],[3,4,5]], dtype=complex)"
   ]
  },
  {
   "cell_type": "code",
   "execution_count": 7,
   "metadata": {},
   "outputs": [
    {
     "name": "stdout",
     "output_type": "stream",
     "text": [
      "[[0.34518204 0.57664109 0.62849259 0.30282804 0.99743367]\n",
      " [0.40576134 0.51754846 0.35830551 0.74552922 0.18213492]\n",
      " [0.96603505 0.90652108 0.20081835 0.08273265 0.35839982]\n",
      " [0.95329266 0.26706319 0.65799325 0.98379384 0.9606134 ]\n",
      " [0.54710852 0.37965726 0.60023    0.8205887  0.08900703]]\n",
      "[[9 2 8 0 6]\n",
      " [8 5 2 1 4]\n",
      " [2 2 2 6 3]\n",
      " [3 2 8 6 2]\n",
      " [3 7 7 7 3]]\n"
     ]
    }
   ],
   "source": [
    "# random array of size 5x5\n",
    "arr_random = np.random.rand(5,5)\n",
    "arr_random_int = np.random.randint(0,10,(5,5))\n",
    "print(arr_random)\n",
    "print(arr_random_int)"
   ]
  },
  {
   "cell_type": "code",
   "execution_count": 8,
   "metadata": {},
   "outputs": [
    {
     "name": "stdout",
     "output_type": "stream",
     "text": [
      "4x5 matrix with zero\n",
      " [[0. 0. 0. 0. 0.]\n",
      " [0. 0. 0. 0. 0.]\n",
      " [0. 0. 0. 0. 0.]\n",
      " [0. 0. 0. 0. 0.]]\n",
      "4x5 matrix with one\n",
      " [[1. 1. 1. 1. 1.]\n",
      " [1. 1. 1. 1. 1.]\n",
      " [1. 1. 1. 1. 1.]\n",
      " [1. 1. 1. 1. 1.]]\n",
      "4x5 matrix with empty\n",
      " [[6.94630157e-310 4.68367412e-310 6.94628410e-310 6.94628410e-310\n",
      "  6.94628411e-310]\n",
      " [6.94628411e-310 6.94628411e-310 6.94628411e-310 6.94628411e-310\n",
      "  6.94628411e-310]\n",
      " [6.94628411e-310 6.94628411e-310 6.94628411e-310 6.94628411e-310\n",
      "  6.94628411e-310]\n",
      " [6.94628411e-310 7.11454530e-322 1.58101007e-322 4.68367405e-310\n",
      "  6.94628411e-310]]\n"
     ]
    }
   ],
   "source": [
    "zeros = np.zeros((4,5))\n",
    "ones = np.ones((4,5)) \n",
    "empty = np.empty((4,5))\n",
    "print(\"4x5 matrix with zero\\n\",zeros)\n",
    "print(\"4x5 matrix with one\\n\",ones)\n",
    "print(\"4x5 matrix with empty\\n\",empty)  "
   ]
  },
  {
   "cell_type": "code",
   "execution_count": 10,
   "metadata": {},
   "outputs": [
    {
     "name": "stdout",
     "output_type": "stream",
     "text": [
      "create a array of 0 to 10 with step 2\n",
      " [0 2 4 6 8]\n"
     ]
    }
   ],
   "source": [
    "# using arange function to create an array\n",
    "arange = np.arange(0,10,2)\n",
    "print(\"create a array of 0 to 10 with step 2\\n\",arange)"
   ]
  },
  {
   "cell_type": "code",
   "execution_count": 13,
   "metadata": {},
   "outputs": [
    {
     "name": "stdout",
     "output_type": "stream",
     "text": [
      "create a array of 0 to 10 with 5 elements\n",
      " [ 0.   2.5  5.   7.5 10. ]\n",
      "[ 0.00000000e+00  6.34239197e-02  1.26592454e-01  1.89251244e-01\n",
      "  2.51147987e-01  3.12033446e-01  3.71662456e-01  4.29794912e-01\n",
      "  4.86196736e-01  5.40640817e-01  5.92907929e-01  6.42787610e-01\n",
      "  6.90079011e-01  7.34591709e-01  7.76146464e-01  8.14575952e-01\n",
      "  8.49725430e-01  8.81453363e-01  9.09631995e-01  9.34147860e-01\n",
      "  9.54902241e-01  9.71811568e-01  9.84807753e-01  9.93838464e-01\n",
      "  9.98867339e-01  9.99874128e-01  9.96854776e-01  9.89821442e-01\n",
      "  9.78802446e-01  9.63842159e-01  9.45000819e-01  9.22354294e-01\n",
      "  8.95993774e-01  8.66025404e-01  8.32569855e-01  7.95761841e-01\n",
      "  7.55749574e-01  7.12694171e-01  6.66769001e-01  6.18158986e-01\n",
      "  5.67059864e-01  5.13677392e-01  4.58226522e-01  4.00930535e-01\n",
      "  3.42020143e-01  2.81732557e-01  2.20310533e-01  1.58001396e-01\n",
      "  9.50560433e-02  3.17279335e-02 -3.17279335e-02 -9.50560433e-02\n",
      " -1.58001396e-01 -2.20310533e-01 -2.81732557e-01 -3.42020143e-01\n",
      " -4.00930535e-01 -4.58226522e-01 -5.13677392e-01 -5.67059864e-01\n",
      " -6.18158986e-01 -6.66769001e-01 -7.12694171e-01 -7.55749574e-01\n",
      " -7.95761841e-01 -8.32569855e-01 -8.66025404e-01 -8.95993774e-01\n",
      " -9.22354294e-01 -9.45000819e-01 -9.63842159e-01 -9.78802446e-01\n",
      " -9.89821442e-01 -9.96854776e-01 -9.99874128e-01 -9.98867339e-01\n",
      " -9.93838464e-01 -9.84807753e-01 -9.71811568e-01 -9.54902241e-01\n",
      " -9.34147860e-01 -9.09631995e-01 -8.81453363e-01 -8.49725430e-01\n",
      " -8.14575952e-01 -7.76146464e-01 -7.34591709e-01 -6.90079011e-01\n",
      " -6.42787610e-01 -5.92907929e-01 -5.40640817e-01 -4.86196736e-01\n",
      " -4.29794912e-01 -3.71662456e-01 -3.12033446e-01 -2.51147987e-01\n",
      " -1.89251244e-01 -1.26592454e-01 -6.34239197e-02 -2.44929360e-16]\n"
     ]
    }
   ],
   "source": [
    "# using linspace function to create an array\n",
    "linspace = np.linspace(0,10,5)\n",
    "print(\"create a array of 0 to 10 with 5 elements\\n\",linspace)\n",
    "x = np.linspace(0,2*np.pi,100)\n",
    "f = np.sin(x)\n",
    "print(f)"
   ]
  },
  {
   "cell_type": "markdown",
   "metadata": {},
   "source": [
    "### Basic NumPy Operations"
   ]
  },
  {
   "cell_type": "code",
   "execution_count": 17,
   "metadata": {},
   "outputs": [
    {
     "name": "stdout",
     "output_type": "stream",
     "text": [
      "Summation of a and b array is  [ 6  7 10 12  9 13]\n",
      "Subtraction of a and b array is  [ 4  3  4  4 -1  1]\n",
      "Multiplication of a and b array is  [ 5 10 21 32 20 42]\n",
      "Division of a and b array is  [5.         2.5        2.33333333 2.         0.8        1.16666667]\n",
      "Boolean array is  [ True  True  True  True False  True]\n"
     ]
    }
   ],
   "source": [
    "a = np.array([5,5,7,8,4,7])\n",
    "b = np.array([1,2,3,4,5,6])\n",
    "add = a+b\n",
    "print(\"Summation of a and b array is \", add)\n",
    "sub = a-b\n",
    "print(\"Subtraction of a and b array is \", sub)\n",
    "mul = a*b\n",
    "print(\"Multiplication of a and b array is \", mul)\n",
    "div = a/b\n",
    "print(\"Division of a and b array is \", div)\n",
    "\n",
    "# bolean array\n",
    "bool = a > b\n",
    "print(\"Boolean array is \", bool)"
   ]
  },
  {
   "cell_type": "code",
   "execution_count": 18,
   "metadata": {},
   "outputs": [
    {
     "name": "stdout",
     "output_type": "stream",
     "text": [
      "Matrix product is  130\n"
     ]
    }
   ],
   "source": [
    "#  matrix product\n",
    "mat_pod = a @ b\n",
    "print(\"Matrix product is \", mat_pod)"
   ]
  },
  {
   "cell_type": "code",
   "execution_count": 20,
   "metadata": {},
   "outputs": [
    {
     "data": {
      "text/plain": [
       "130"
      ]
     },
     "execution_count": 20,
     "metadata": {},
     "output_type": "execute_result"
    }
   ],
   "source": [
    "a.dot(b)"
   ]
  },
  {
   "cell_type": "code",
   "execution_count": 27,
   "metadata": {},
   "outputs": [
    {
     "data": {
      "text/plain": [
       "array([[ 5,  2],\n",
       "       [ 3,  9],\n",
       "       [ 5,  5],\n",
       "       [ 7,  2],\n",
       "       [ 9, 10]])"
      ]
     },
     "execution_count": 27,
     "metadata": {},
     "output_type": "execute_result"
    }
   ],
   "source": [
    "# statistical analysis\n",
    "c = np.array([5,2,3,9,5,5,7,2,9,10]).reshape(5,2)\n",
    "c"
   ]
  },
  {
   "cell_type": "code",
   "execution_count": 29,
   "metadata": {},
   "outputs": [
    {
     "data": {
      "text/plain": [
       "2"
      ]
     },
     "execution_count": 29,
     "metadata": {},
     "output_type": "execute_result"
    }
   ],
   "source": [
    "c.min()"
   ]
  },
  {
   "cell_type": "code",
   "execution_count": 30,
   "metadata": {},
   "outputs": [
    {
     "data": {
      "text/plain": [
       "array([3, 2])"
      ]
     },
     "execution_count": 30,
     "metadata": {},
     "output_type": "execute_result"
    }
   ],
   "source": [
    "c.min(axis=0)"
   ]
  },
  {
   "cell_type": "code",
   "execution_count": 31,
   "metadata": {},
   "outputs": [
    {
     "data": {
      "text/plain": [
       "57"
      ]
     },
     "execution_count": 31,
     "metadata": {},
     "output_type": "execute_result"
    }
   ],
   "source": [
    "# sum of all elements in the array\n",
    "c.sum()"
   ]
  },
  {
   "cell_type": "code",
   "execution_count": 32,
   "metadata": {},
   "outputs": [
    {
     "data": {
      "text/plain": [
       "array([29, 28])"
      ]
     },
     "execution_count": 32,
     "metadata": {},
     "output_type": "execute_result"
    }
   ],
   "source": [
    "c.sum(axis=0)"
   ]
  },
  {
   "cell_type": "code",
   "execution_count": 33,
   "metadata": {},
   "outputs": [
    {
     "data": {
      "text/plain": [
       "array([ 5,  7, 10, 19, 24, 29, 36, 38, 47, 57])"
      ]
     },
     "execution_count": 33,
     "metadata": {},
     "output_type": "execute_result"
    }
   ],
   "source": [
    "# cumulative sum of all elements in the array\n",
    "c.cumsum()"
   ]
  },
  {
   "cell_type": "code",
   "execution_count": null,
   "metadata": {},
   "outputs": [],
   "source": []
  }
 ],
 "metadata": {
  "kernelspec": {
   "display_name": "Python 3.10.4 64-bit",
   "language": "python",
   "name": "python3"
  },
  "language_info": {
   "codemirror_mode": {
    "name": "ipython",
    "version": 3
   },
   "file_extension": ".py",
   "mimetype": "text/x-python",
   "name": "python",
   "nbconvert_exporter": "python",
   "pygments_lexer": "ipython3",
   "version": "3.10.4"
  },
  "orig_nbformat": 4,
  "vscode": {
   "interpreter": {
    "hash": "4f946df053fbf2b937619d3c5458e7af74262f9a954d8797ba0b27400bcafe06"
   }
  }
 },
 "nbformat": 4,
 "nbformat_minor": 2
}
